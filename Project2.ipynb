{
 "cells": [
  {
   "cell_type": "code",
   "execution_count": 1,
   "metadata": {},
   "outputs": [],
   "source": [
    "import pandas as pd\n",
    "import numpy as np\n",
    "from matplotlib.pylab import (figure, semilogx, loglog, xlabel, ylabel, legend, \n",
    "                           title, subplot, show, grid)\n",
    "import numpy as np\n",
    "import matplotlib.pyplot as plt\n",
    "from scipy.io import loadmat\n",
    "import sklearn.linear_model as lm\n",
    "from sklearn.linear_model import Ridge\n",
    "import sklearn.model_selection as ms\n",
    "from sklearn.model_selection import cross_val_score"
   ]
  },
  {
   "cell_type": "code",
   "execution_count": 10,
   "metadata": {},
   "outputs": [],
   "source": [
    "data = pd.read_csv(\"wdbc (5).data\")\n",
    "data = data.iloc[:,1:12]"
   ]
  },
  {
   "attachments": {},
   "cell_type": "markdown",
   "metadata": {},
   "source": [
    "Regularization of data such that each column has a mean of 0 and standard deviation of 1"
   ]
  },
  {
   "cell_type": "code",
   "execution_count": 11,
   "metadata": {},
   "outputs": [],
   "source": [
    "for column in data.columns[1:]:\n",
    "    mean = np.mean(data[column])\n",
    "    std = np.std(data[column])\n",
    "    data[column] = (data[column] - mean) / std"
   ]
  },
  {
   "attachments": {},
   "cell_type": "markdown",
   "metadata": {},
   "source": [
    "Binarize the Diagnosis Variable"
   ]
  },
  {
   "cell_type": "code",
   "execution_count": 12,
   "metadata": {},
   "outputs": [],
   "source": [
    "data.loc[data[\"Diagnosis\"] == 'M', \"Diagnosis\"] = 1\n",
    "data.loc[data[\"Diagnosis\"] == 'B', \"Diagnosis\"] = 0"
   ]
  },
  {
   "cell_type": "code",
   "execution_count": 20,
   "metadata": {},
   "outputs": [],
   "source": [
    "import sklearn.metrics.cluster as cluster_metrics\n",
    "import numpy as np\n",
    "import matplotlib.pyplot as plt\n",
    "from sklearn import model_selection, linear_model\n",
    "from matplotlib.pyplot import contourf\n",
    "from matplotlib import cm\n",
    "\n",
    "def rlr_validate(X,y,lambdas,cvf=10):\n",
    "    ''' Validate regularized linear regression model using 'cvf'-fold cross validation.\n",
    "        Find the optimal lambda (minimizing validation error) from 'lambdas' list.\n",
    "        The loss function computed as mean squared error on validation set (MSE).\n",
    "        Function returns: MSE averaged over 'cvf' folds, optimal value of lambda,\n",
    "        average weight values for all lambdas, MSE train&validation errors for all lambdas.\n",
    "        The cross validation splits are standardized based on the mean and standard\n",
    "        deviation of the training set when estimating the regularization strength.\n",
    "        \n",
    "        Parameters:\n",
    "        X       training data set\n",
    "        y       vector of values\n",
    "        lambdas vector of lambda values to be validated\n",
    "        cvf     number of crossvalidation folds     \n",
    "        \n",
    "        Returns:\n",
    "        opt_val_err         validation error for optimum lambda\n",
    "        opt_lambda          value of optimal lambda\n",
    "        mean_w_vs_lambda    weights as function of lambda (matrix)\n",
    "        train_err_vs_lambda train error as function of lambda (vector)\n",
    "        test_err_vs_lambda  test error as function of lambda (vector)\n",
    "    '''\n",
    "    CV = model_selection.KFold(cvf, shuffle=True)\n",
    "    M = X.shape[1]\n",
    "    w = np.empty((M,cvf,len(lambdas)))\n",
    "    train_error = np.empty((cvf,len(lambdas)))\n",
    "    test_error = np.empty((cvf,len(lambdas)))\n",
    "    f = 0\n",
    "    y = y.squeeze()\n",
    "    for train_index, test_index in CV.split(X,y):\n",
    "        X_train = X[train_index]\n",
    "        y_train = y[train_index]\n",
    "        X_test = X[test_index]\n",
    "        y_test = y[test_index]\n",
    "        \n",
    "        # precompute terms\n",
    "        Xty = X_train.T @ y_train\n",
    "        XtX = X_train.T @ X_train\n",
    "        for l in range(0,len(lambdas)):\n",
    "            # Compute parameters for current value of lambda and current CV fold\n",
    "            # note: \"linalg.lstsq(a,b)\" is substitue for Matlab's left division operator \"\\\"\n",
    "            lambdaI = lambdas[l] * np.eye(M)\n",
    "            lambdaI[0,0] = 0 \n",
    "            # remove bias regularization\n",
    "            place_holder = XtX+lambdaI\n",
    "            w[:,f,l] = np.linalg.solve(place_holder.astype(np.float),Xty.astype(np.float)).squeeze()\n",
    "            # Evaluate training and test performance\n",
    "            train_error[f,l] = np.power(y_train-X_train @ w[:,f,l].T,2).mean(axis=0)\n",
    "            test_error[f,l] = np.power(y_test-X_test @ w[:,f,l].T,2).mean(axis=0)\n",
    "    \n",
    "        f=f+1\n",
    "\n",
    "    opt_val_err = np.min(np.mean(test_error,axis=0))\n",
    "    opt_lambda = lambdas[np.argmin(np.mean(test_error,axis=0))]\n",
    "    train_err_vs_lambda = np.mean(train_error,axis=0)\n",
    "    test_err_vs_lambda = np.mean(test_error,axis=0)\n",
    "    mean_w_vs_lambda = np.squeeze(np.mean(w,axis=1))\n",
    "    \n",
    "    return opt_val_err, opt_lambda, mean_w_vs_lambda, train_err_vs_lambda, test_err_vs_lambda"
   ]
  },
  {
   "attachments": {},
   "cell_type": "markdown",
   "metadata": {},
   "source": [
    "Regression Setup"
   ]
  },
  {
   "attachments": {},
   "cell_type": "markdown",
   "metadata": {},
   "source": [
    "Try again"
   ]
  },
  {
   "cell_type": "code",
   "execution_count": 37,
   "metadata": {},
   "outputs": [
    {
     "name": "stderr",
     "output_type": "stream",
     "text": [
      "C:\\Users\\birdl\\AppData\\Local\\Temp\\ipykernel_28988\\290691948.py:53: DeprecationWarning: `np.float` is a deprecated alias for the builtin `float`. To silence this warning, use `float` by itself. Doing this will not modify any behavior and is safe. If you specifically wanted the numpy scalar type, use `np.float64` here.\n",
      "Deprecated in NumPy 1.20; for more details and guidance: https://numpy.org/devdocs/release/1.20.0-notes.html#deprecations\n",
      "  w[:,f,l] = np.linalg.solve(place_holder.astype(np.float),Xty.astype(np.float)).squeeze()\n",
      "C:\\Users\\birdl\\AppData\\Local\\Temp\\ipykernel_28988\\69023626.py:58: DeprecationWarning: `np.float` is a deprecated alias for the builtin `float`. To silence this warning, use `float` by itself. Doing this will not modify any behavior and is safe. If you specifically wanted the numpy scalar type, use `np.float64` here.\n",
      "Deprecated in NumPy 1.20; for more details and guidance: https://numpy.org/devdocs/release/1.20.0-notes.html#deprecations\n",
      "  w_rlr[:,k] = np.linalg.solve(place_holder2.astype(np.float),Xty.astype(np.float)).squeeze()\n"
     ]
    },
    {
     "data": {
      "image/png": "[encoded data removed]",
      "text/plain": [
       "<Figure size 640x480 with 1 Axes>"
      ]
     },
     "metadata": {},
     "output_type": "display_data"
    },
    {
     "name": "stdout",
     "output_type": "stream",
     "text": [
      "Weights in last fold:\n",
      "         Offset            0.03\n",
      "      Diagnosis           -0.06\n",
      "     smoothness            0.28\n",
      "      concavity            0.67\n",
      " concave points            0.06\n",
      "        texture            0.02\n"
     ]
    }
   ],
   "source": [
    "X = data[['Diagnosis','smoothness','concavity','concave points', 'texture']].to_numpy()\n",
    "y = data['compactness'].to_numpy()\n",
    "\n",
    "attributeNames = ['Diagnosis','smoothness','concavity','concave points', 'texture']\n",
    "N, M = X.shape\n",
    "\n",
    "# Add offset attribute\n",
    "X = np.concatenate((np.ones((X.shape[0],1)),X),1)\n",
    "attributeNames = [u'Offset']+attributeNames\n",
    "M = M+1\n",
    "\n",
    "## Crossvalidation\n",
    "# Create crossvalidation partition for evaluation\n",
    "K = 5\n",
    "CV = model_selection.KFold(K, shuffle=True)\n",
    "#CV = model_selection.KFold(K, shuffle=False)\n",
    "\n",
    "# Values of lambda\n",
    "lambdas = np.arange(-5,20,0.1)\n",
    "\n",
    "# Initialize variables\n",
    "#T = len(lambdas)\n",
    "Error_train = np.empty((K,1))\n",
    "Error_test = np.empty((K,1))\n",
    "Error_train_rlr = np.empty((K,1))\n",
    "Error_test_rlr = np.empty((K,1))\n",
    "Error_train_nofeatures = np.empty((K,1))\n",
    "Error_test_nofeatures = np.empty((K,1))\n",
    "w_rlr = np.empty((M,K))\n",
    "mu = np.empty((K, M-1))\n",
    "sigma = np.empty((K, M-1))\n",
    "w_noreg = np.empty((M,K))\n",
    "\n",
    "k=0\n",
    "for train_index, test_index in CV.split(X,y):\n",
    "    \n",
    "    # extract training and test set for current CV fold\n",
    "    X_train = X[train_index]\n",
    "    y_train = y[train_index]\n",
    "    X_test = X[test_index]\n",
    "    y_test = y[test_index]\n",
    "    internal_cross_validation = 10    \n",
    "    \n",
    "    opt_val_err, opt_lambda, mean_w_vs_lambda, train_err_vs_lambda, test_err_vs_lambda = rlr_validate(X_train, y_train, lambdas, internal_cross_validation)\n",
    "    \n",
    "    Xty = X_train.T @ y_train\n",
    "    XtX = X_train.T @ X_train\n",
    "    \n",
    "    # Compute mean squared error without using the input data at all\n",
    "    Error_train_nofeatures[k] = np.square(y_train-y_train.mean()).sum(axis=0)/y_train.shape[0]\n",
    "    Error_test_nofeatures[k] = np.square(y_test-y_test.mean()).sum(axis=0)/y_test.shape[0]\n",
    "\n",
    "    # Estimate weights for the optimal value of lambda, on entire training set\n",
    "    lambdaI = opt_lambda * np.eye(M)\n",
    "    lambdaI[0,0] = 0 # Do no regularize the bias term\n",
    "\n",
    "    place_holder2 = (XtX+lambdaI)\n",
    "    w_rlr[:,k] = np.linalg.solve(place_holder2.astype(np.float),Xty.astype(np.float)).squeeze()\n",
    "\n",
    "    # Compute mean squared error with regularization with optimal lambda\n",
    "    Error_train_rlr[k] = np.square(y_train-X_train @ w_rlr[:,k]).sum(axis=0)/y_train.shape[0]\n",
    "    Error_test_rlr[k] = np.square(y_test-X_test @ w_rlr[:,k]).sum(axis=0)/y_test.shape[0]\n",
    "\n",
    "    # Display the results for the last cross-validation fold\n",
    "    if k == K-1:\n",
    "        \n",
    "        subplot(1,2,2)\n",
    "        title('Optimal lambda: 1e{0}'.format(np.log10(opt_lambda)))\n",
    "        loglog(lambdas,train_err_vs_lambda.T,'b.-',lambdas,test_err_vs_lambda.T,'r.-')\n",
    "        xlabel('Regularization factor')\n",
    "        ylabel('Squared error (crossvalidation)')\n",
    "        legend(['Train error','Validation error'])\n",
    "        plt.axvline(x=opt_lambda)\n",
    "        grid()\n",
    "    \n",
    "    # To inspect the used indices, use these print statements\n",
    "    #print('Cross validation fold {0}/{1}:'.format(k+1,K))\n",
    "    #print('Train indices: {0}'.format(train_index))\n",
    "    #print('Test indices: {0}\\n'.format(test_index))\n",
    "\n",
    "    k+=1\n",
    "\n",
    "show()\n",
    "\n",
    "print('Weights in last fold:')\n",
    "for m in range(M):\n",
    "    print('{:>15} {:>15}'.format(attributeNames[m], np.round(w_rlr[m,-1],2)))"
   ]
  },
  {
   "attachments": {},
   "cell_type": "markdown",
   "metadata": {},
   "source": [
    "Introduce a regularization parameter λ"
   ]
  },
  {
   "attachments": {},
   "cell_type": "markdown",
   "metadata": {},
   "source": [
    "Estimate the generalization error for different values of λ, for each value use K = 10 fold\n",
    "cross-validation to estimate the generalization error"
   ]
  },
  {
   "attachments": {},
   "cell_type": "markdown",
   "metadata": {},
   "source": [
    "A figure of the estimated generalization error as a function of λ in the\n",
    "report"
   ]
  },
  {
   "attachments": {},
   "cell_type": "markdown",
   "metadata": {},
   "source": [
    "Explain how a new data observation is predicted according to the linear model\n",
    "with the lowest generalization error as estimated in the previous question. I.e.,\n",
    "what are the effects of the selected attributes in terms of determining the\n",
    "predicted class. Does the result make sense?"
   ]
  }
 ],
 "metadata": {
  "kernelspec": {
   "display_name": "course02502",
   "language": "python",
   "name": "python3"
  },
  "language_info": {
   "codemirror_mode": {
    "name": "ipython",
    "version": 3
   },
   "file_extension": ".py",
   "mimetype": "text/x-python",
   "name": "python",
   "nbconvert_exporter": "python",
   "pygments_lexer": "ipython3",
   "version": "3.9.16"
  },
  "orig_nbformat": 4
 },
 "nbformat": 4,
 "nbformat_minor": 2
}
